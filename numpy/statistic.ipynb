{
 "cells": [
  {
   "cell_type": "code",
   "execution_count": 117,
   "metadata": {},
   "outputs": [
    {
     "name": "stdout",
     "output_type": "stream",
     "text": [
      "Requirement already satisfied: scipy in /Library/Frameworks/Python.framework/Versions/3.8/lib/python3.8/site-packages (1.7.3)\n",
      "Requirement already satisfied: numpy<1.23.0,>=1.16.5 in /Library/Frameworks/Python.framework/Versions/3.8/lib/python3.8/site-packages (from scipy) (1.21.5)\n",
      "Note: you may need to restart the kernel to use updated packages.\n"
     ]
    }
   ],
   "source": [
    "# ייבוא ספריות\n",
    "import numpy as np\n",
    "from scipy import stats\n",
    "import matplotlib.pyplot as plt"
   ]
  },
  {
   "cell_type": "code",
   "execution_count": 118,
   "metadata": {},
   "outputs": [
    {
     "name": "stdout",
     "output_type": "stream",
     "text": [
      "↡↡↡--mean--↡↡↡\n",
      "0\n",
      "↡↡↡--std--↡↡↡\n",
      "1\n",
      "↡↡↡--median--↡↡↡\n",
      "0\n",
      "↡↡↡--mode--↡↡↡\n",
      "-4\n"
     ]
    }
   ],
   "source": [
    "# התפלגות נורמלית\n",
    "normal_dist = np.random.randn(10000) \n",
    "\n",
    "def print_stat(array):\n",
    "    print(\"↡↡↡--mean--↡↡↡\")\n",
    "    print(round(np.mean(normal_dist)))\n",
    "    print(\"↡↡↡--std--↡↡↡\") \n",
    "    print(round(np.std(normal_dist)))\n",
    "    print(\"↡↡↡--median--↡↡↡\")\n",
    "    print(round(np.median(normal_dist)))\n",
    "    print(\"↡↡↡--mode--↡↡↡\")\n",
    "    print(round(stats.mode(normal_dist)[0][0]))\n",
    "\n",
    "print_stat(normal_dist)\n",
    "\n"
   ]
  },
  {
   "cell_type": "code",
   "execution_count": 119,
   "metadata": {},
   "outputs": [
    {
     "name": "stdout",
     "output_type": "stream",
     "text": [
      "↡↡↡--mean--↡↡↡\n",
      "3\n",
      "↡↡↡--std--↡↡↡\n",
      "3\n",
      "↡↡↡--median--↡↡↡\n",
      "3\n",
      "↡↡↡--mode--↡↡↡\n",
      "-9\n"
     ]
    },
    {
     "data": {
      "image/png": "[encoded data removed]",
      "text/plain": [
       "<Figure size 432x288 with 1 Axes>"
      ]
     },
     "metadata": {
      "needs_background": "light"
     },
     "output_type": "display_data"
    }
   ],
   "source": [
    "normal_dist = 3 * np.random.randn(10000) + 3 # ניתן לבצע הזזות \n",
    "\n",
    "plt.hist(normal_dist)\n",
    "\n",
    "print_stat(normal_dist)"
   ]
  },
  {
   "cell_type": "code",
   "execution_count": 120,
   "metadata": {},
   "outputs": [
    {
     "data": {
      "text/plain": [
       "5.584102023669677"
      ]
     },
     "execution_count": 120,
     "metadata": {},
     "output_type": "execute_result"
    }
   ],
   "source": [
    "#  אחוזון ה80\n",
    "np.percentile(normal_dist,80)"
   ]
  },
  {
   "cell_type": "code",
   "execution_count": null,
   "metadata": {},
   "outputs": [],
   "source": []
  }
 ],
 "metadata": {
  "interpreter": {
   "hash": "aee8b7b246df8f9039afb4144a1f6fd8d2ca17a180786b69acc140d282b71a49"
  },
  "kernelspec": {
   "display_name": "Python 3.8.0 64-bit",
   "language": "python",
   "name": "python3"
  },
  "language_info": {
   "codemirror_mode": {
    "name": "ipython",
    "version": 3
   },
   "file_extension": ".py",
   "mimetype": "text/x-python",
   "name": "python",
   "nbconvert_exporter": "python",
   "pygments_lexer": "ipython3",
   "version": "3.8.0"
  },
  "orig_nbformat": 4
 },
 "nbformat": 4,
 "nbformat_minor": 2
}
