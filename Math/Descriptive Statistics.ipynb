{
 "cells": [
  {
   "cell_type": "code",
   "execution_count": 148,
   "metadata": {},
   "outputs": [],
   "source": [
    "# ייבוא ספריות\n",
    "import pandas as pd\n",
    "import numpy as np\n",
    "from scipy import stats\n",
    "import matplotlib.pyplot as plt"
   ]
  },
  {
   "cell_type": "code",
   "execution_count": 149,
   "metadata": {},
   "outputs": [
    {
     "name": "stdout",
     "output_type": "stream",
     "text": [
      "↡↡↡--mean--↡↡↡\n",
      "0\n",
      "↡↡↡--std--↡↡↡\n",
      "1\n",
      "↡↡↡--median--↡↡↡\n",
      "0\n",
      "↡↡↡--mode--↡↡↡\n",
      "-3\n"
     ]
    }
   ],
   "source": [
    "# התפלגות נורמלית\n",
    "normal_dist = np.random.randn(10000) \n",
    "\n",
    "def print_stat(array):\n",
    "    print(\"↡↡↡--mean--↡↡↡\")\n",
    "    print(round(np.mean(normal_dist)))\n",
    "    print(\"↡↡↡--std--↡↡↡\") \n",
    "    print(round(np.std(normal_dist)))\n",
    "    print(\"↡↡↡--median--↡↡↡\")\n",
    "    print(round(np.median(normal_dist)))\n",
    "    print(\"↡↡↡--mode--↡↡↡\")\n",
    "    print(round(stats.mode(normal_dist)[0][0]))\n",
    "\n",
    "print_stat(normal_dist)\n",
    "\n"
   ]
  },
  {
   "cell_type": "code",
   "execution_count": 150,
   "metadata": {},
   "outputs": [
    {
     "name": "stdout",
     "output_type": "stream",
     "text": [
      "↡↡↡--mean--↡↡↡\n",
      "3\n",
      "↡↡↡--std--↡↡↡\n",
      "3\n",
      "↡↡↡--median--↡↡↡\n",
      "3\n",
      "↡↡↡--mode--↡↡↡\n",
      "-9\n"
     ]
    },
    {
     "data": {
      "image/png": "[encoded data removed]",
      "text/plain": [
       "<Figure size 432x288 with 1 Axes>"
      ]
     },
     "metadata": {
      "needs_background": "light"
     },
     "output_type": "display_data"
    }
   ],
   "source": [
    "normal_dist = 3 * np.random.randn(10000) + 3 # ניתן לבצע הזזות \n",
    "\n",
    "plt.hist(normal_dist)\n",
    "\n",
    "print_stat(normal_dist)"
   ]
  },
  {
   "cell_type": "code",
   "execution_count": 151,
   "metadata": {},
   "outputs": [
    {
     "data": {
      "text/plain": [
       "5.5368203313422155"
      ]
     },
     "execution_count": 151,
     "metadata": {},
     "output_type": "execute_result"
    }
   ],
   "source": [
    "#  אחוזון ה80\n",
    "np.percentile(normal_dist,80)"
   ]
  },
  {
   "cell_type": "code",
   "execution_count": 152,
   "metadata": {},
   "outputs": [],
   "source": [
    "\n",
    "\n",
    "def remove_column_outliers(columnName,df):\n",
    "    \n",
    "    df_s = df\n",
    "    df = df.sort_values(by=[columnName],ascending=False)\n",
    "    df = df[[columnName]]\n",
    "\n",
    "    z_scores = stats.zscore(df)\n",
    "    abs_z = (np.abs(z_scores))\n",
    "    filter = (abs_z < 1).all(axis = 1)\n",
    "\n",
    "    if df.shape[0] != filter.sum():\n",
    "        print(\"!!--We found Outliers--!!\")\n",
    "        print(\"----------------------------\")\n",
    "        print(\"↡↡↡--Top outliears--↡↡↡\")\n",
    "        print(df.head(3))\n",
    "        print(\"----------------------------\")\n",
    "        print(\"↡↡↡-- Bottom outliears--↡↡↡\")\n",
    "        print(df.tail(3))\n",
    "        \n",
    "\n",
    "        decision = int(input(\"Do you want us to clean the outliers? 0 = no , 1 = yes, but not too many , 2 = yaa!! clean it all!\"))\n",
    "\n",
    "        if decision == 1:\n",
    "            new_df = df[filter]\n",
    "            return(new_df)\n",
    "        elif decision == 2:\n",
    "            num_slice = int(df.shape[0]*0.2)\n",
    "            df_temp = df.abs()\n",
    "            top =df.shape[0] - num_slice - 1\n",
    "            bottom = num_slice \n",
    "            new_df2 = df_temp.loc[bottom:top]\n",
    "            return new_df2\n",
    "        else: \n",
    "            return(df_s)\n",
    "    else:\n",
    "        print(\"No outliers ;)\")\n",
    "        return(df_s)\n",
    "\n",
    "    "
   ]
  },
  {
   "cell_type": "code",
   "execution_count": 153,
   "metadata": {},
   "outputs": [
    {
     "name": "stdout",
     "output_type": "stream",
     "text": [
      "the best way to describe your data is by Histogram\n",
      "<seaborn.axisgrid.FacetGrid object at 0x7f8b9735b400>\n"
     ]
    },
    {
     "data": {
      "text/html": [
       "<div>\n",
       "<style scoped>\n",
       "    .dataframe tbody tr th:only-of-type {\n",
       "        vertical-align: middle;\n",
       "    }\n",
       "\n",
       "    .dataframe tbody tr th {\n",
       "        vertical-align: top;\n",
       "    }\n",
       "\n",
       "    .dataframe thead th {\n",
       "        text-align: right;\n",
       "    }\n",
       "</style>\n",
       "<table border=\"1\" class=\"dataframe\">\n",
       "  <thead>\n",
       "    <tr style=\"text-align: right;\">\n",
       "      <th></th>\n",
       "      <th>manger name</th>\n",
       "      <th>id</th>\n",
       "      <th>test scores</th>\n",
       "      <th>salary</th>\n",
       "      <th>profits</th>\n",
       "      <th>p chagne%</th>\n",
       "      <th>details</th>\n",
       "    </tr>\n",
       "  </thead>\n",
       "  <tbody>\n",
       "    <tr>\n",
       "      <th>0</th>\n",
       "      <td>tom</td>\n",
       "      <td>1</td>\n",
       "      <td>80</td>\n",
       "      <td>$100.00</td>\n",
       "      <td>$10,000.00</td>\n",
       "      <td>0</td>\n",
       "      <td>the person very good</td>\n",
       "    </tr>\n",
       "    <tr>\n",
       "      <th>1</th>\n",
       "      <td>tom</td>\n",
       "      <td>1</td>\n",
       "      <td>90</td>\n",
       "      <td>$200.00</td>\n",
       "      <td>$22,000.00</td>\n",
       "      <td>220%</td>\n",
       "      <td>very good high</td>\n",
       "    </tr>\n",
       "    <tr>\n",
       "      <th>2</th>\n",
       "      <td>chen</td>\n",
       "      <td>2</td>\n",
       "      <td>43</td>\n",
       "      <td>$500.00</td>\n",
       "      <td>$32,100.00</td>\n",
       "      <td>146%</td>\n",
       "      <td>need to work more</td>\n",
       "    </tr>\n",
       "    <tr>\n",
       "      <th>3</th>\n",
       "      <td>shani</td>\n",
       "      <td>3</td>\n",
       "      <td>25</td>\n",
       "      <td>$300.00</td>\n",
       "      <td>$42,000.00</td>\n",
       "      <td>131%</td>\n",
       "      <td>very noesy high</td>\n",
       "    </tr>\n",
       "    <tr>\n",
       "      <th>4</th>\n",
       "      <td>sivan</td>\n",
       "      <td>4</td>\n",
       "      <td>6</td>\n",
       "      <td>$1,000.00</td>\n",
       "      <td>$50,000.00</td>\n",
       "      <td>119%</td>\n",
       "      <td>good sttricute</td>\n",
       "    </tr>\n",
       "  </tbody>\n",
       "</table>\n",
       "</div>"
      ],
      "text/plain": [
       "  manger name  id  test scores     salary     profits p chagne%  \\\n",
       "0         tom   1           80    $100.00  $10,000.00         0   \n",
       "1         tom   1           90    $200.00  $22,000.00      220%   \n",
       "2       chen    2           43    $500.00  $32,100.00      146%   \n",
       "3       shani   3           25    $300.00  $42,000.00      131%   \n",
       "4       sivan   4            6  $1,000.00  $50,000.00      119%   \n",
       "\n",
       "                details  \n",
       "0  the person very good  \n",
       "1        very good high  \n",
       "2     need to work more  \n",
       "3       very noesy high  \n",
       "4        good sttricute  "
      ]
     },
     "execution_count": 153,
     "metadata": {},
     "output_type": "execute_result"
    },
    {
     "data": {
      "image/png": "[encoded data removed]",
      "text/plain": [
       "<Figure size 360x360 with 1 Axes>"
      ]
     },
     "metadata": {
      "needs_background": "light"
     },
     "output_type": "display_data"
    }
   ],
   "source": [
    "from scipy import stats\n",
    "import seaborn as sns\n",
    "import pandas as pd \n",
    "import matplotlib.pyplot as plt\n",
    "import numpy as np\n",
    "from os import path\n",
    "from PIL import Image\n",
    "from wordcloud import WordCloud, STOPWORDS, ImageColorGenerator\n",
    "\n",
    "def deicide_trim_orNot(columnName,df):\n",
    "    df = df.sort_values(by=[columnName],ascending=False)\n",
    "    df = df[[columnName]]\n",
    "\n",
    "    z_scores = stats.zscore(df)\n",
    "    abs_z = (np.abs(z_scores))\n",
    "    filter = (abs_z < 1).all(axis = 1)\n",
    "\n",
    "    if df.shape[0] != filter.sum():\n",
    "        trim = str(round(stats.trim_mean(df, 0.25)[0],2))\n",
    "        return \"the best kpi that describe your data is Trim Mean: \" + trim   \n",
    "    else:\n",
    "        return(\"No outliers ;)  the best kpi that describe your data is: Mean\" + str(df.mean()[0]))\n",
    "\n",
    "########################################################\n",
    "\n",
    "def normal_std(df):\n",
    "   x = int(df.std())\n",
    "   x = str(x)\n",
    "   count = int(len(x))\n",
    "   x = int(x)\n",
    "   return x*10**(-abs((count-2)))\n",
    "\n",
    "########################################################\n",
    "\n",
    "def clean_dollar(df):\n",
    "    df = df.astype(str)\n",
    "    df= df.replace(r\"\\$\",\"\",regex= True)\n",
    "    df= df.replace(r\"\\,\",\"\",regex=True)\n",
    "    df= df.replace(r\"\\%\",\"\",regex=True)\n",
    "    df = df.astype(float)\n",
    "    return df\n",
    "\n",
    "########################################################\n",
    "def OurWordCloud(df,title = None,pic_shape = \" \"):\n",
    "       stopwords = set(STOPWORDS)\n",
    "\n",
    "       wordcloud = WordCloud(\n",
    "           background_color=\"white\",\n",
    "           stopwords=stopwords,\n",
    "           max_words=22,\n",
    "           max_font_size=40,\n",
    "           scale= 3,\n",
    "           random_state=1).generate(str(df))\n",
    "\n",
    "       fig = plt.figure(1,figsize=(10,10))\n",
    "       plt.axis(\"off\")\n",
    "       if title:\n",
    "           fig.suptitle(title,fontsize=15)\n",
    "           fig.subplots_adjust(top = 2.3)\n",
    "    \n",
    "       plt.imshow(wordcloud)\n",
    "       plt.show()\n",
    "########################################################\n",
    "\n",
    "def top_analyst(columnName,df):\n",
    "    df_save = df\n",
    "    df = df[[columnName]]\n",
    "\n",
    "    if df.dtypes[0] == 'int' or df.dtypes[0] == 'float':\n",
    "        if columnName.lower() == \"salary\":\n",
    "            return \"the best kpi that describe your data is Median: \" +  str(round(df.median()[0]))\n",
    "        elif normal_std(df) > 2:\n",
    "            return deicide_trim_orNot(columnName,df_save)\n",
    "        else:\n",
    "            return \"No outliers ;)  the best kpi that describe your data is : Mean \" + str(round(df.mean()[0],2))  \n",
    "\n",
    "    elif df.dtypes[0] == 'object':\n",
    "        if \"$\" in df[columnName][1] or columnName.lower() == \"Salary\":\n",
    "            user= int(input(\"now we talk money! salary = 1 money change over time = 0\"))\n",
    "            if user == 1:\n",
    "                df = clean_dollar(df)\n",
    "                return \"the best kpi that describe your data is Median:  \" +  str(round(df.median()[0]))\n",
    "\n",
    "            elif user == 0:\n",
    "                df = clean_dollar(df)\n",
    "                df = df.pct_change() + 1\n",
    "                df = df.loc[1:]\n",
    "                return \"the best kpi that describe your data is Geometric Mean: \"+ str(round(stats.gmean(df)[0],2))\n",
    "\n",
    "        elif \"%\" in df[columnName][1]:\n",
    "            user= int(input(\"change over time? yes = 1 no = 0\"))\n",
    "            if user ==  1:\n",
    "                df = clean_dollar(df)\n",
    "                df = df.loc[1:] / 100\n",
    "                return \"the best kpi that describe your data is Geometric Mean: \"+ str(round(stats.gmean(df)[0],2))\n",
    "            else:\n",
    "                df = clean_dollar(df)\n",
    "                trim = str(round(stats.trim_mean(df, 0.25)[0],2))\n",
    "                return \"the best kpi that describe your data is Trim Mean: \" + trim +\"%\"\n",
    "        else:\n",
    "            if len(df[columnName][0]) > 18:\n",
    "                print(\"the best way to describe your data is by Word Cloud: \")\n",
    "                return OurWordCloud(df[columnName])\n",
    "            else:\n",
    "               print(\"the best way to describe your data is by Histogram\")\n",
    "               return sns.catplot(x = columnName,kind = \"count\",palette= \"magma\",data = df)\n",
    "            \n",
    "    \n",
    "df = pd.read_csv(\"test.csv\")\n",
    "\n",
    "print(top_analyst(\"manger name\",df))\n",
    "\n",
    "df.head()"
   ]
  },
  {
   "cell_type": "code",
   "execution_count": null,
   "metadata": {},
   "outputs": [],
   "source": [
    "\n",
    "\n"
   ]
  }
 ],
 "metadata": {
  "interpreter": {
   "hash": "aee8b7b246df8f9039afb4144a1f6fd8d2ca17a180786b69acc140d282b71a49"
  },
  "kernelspec": {
   "display_name": "Python 3.8.0 64-bit",
   "language": "python",
   "name": "python3"
  },
  "language_info": {
   "codemirror_mode": {
    "name": "ipython",
    "version": 3
   },
   "file_extension": ".py",
   "mimetype": "text/x-python",
   "name": "python",
   "nbconvert_exporter": "python",
   "pygments_lexer": "ipython3",
   "version": "3.8.0"
  },
  "orig_nbformat": 4
 },
 "nbformat": 4,
 "nbformat_minor": 2
}
