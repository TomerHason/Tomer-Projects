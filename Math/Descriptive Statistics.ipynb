{
 "cells": [
  {
   "cell_type": "markdown",
   "metadata": {},
   "source": [
    "***What is the best descriptive way to present different types of data?***\n",
    " <ul>\n",
    "  <li>\n",
    "You have the option to display each column with only one Metric or chart!</li>\n",
    "    <ul>\n",
    "<img src=\"data:image/svg+xml;base64,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\" title=\"Python Logo\"/>\n"
   ]
  },
  {
   "cell_type": "markdown",
   "metadata": {},
   "source": [
    "***Let's start by importing the main libraries.***"
   ]
  },
  {
   "cell_type": "code",
   "execution_count": 391,
   "metadata": {},
   "outputs": [],
   "source": [
    "import pandas as pd\n",
    "import numpy as np\n",
    "from scipy import stats\n",
    "import matplotlib.pyplot as plt\n",
    "import seaborn as sns \n",
    "from os import path\n",
    "from PIL import Image\n",
    "from wordcloud import WordCloud, STOPWORDS, ImageColorGenerator"
   ]
  },
  {
   "cell_type": "markdown",
   "metadata": {},
   "source": [
    "***Next, we need a dataset to work with.***"
   ]
  },
  {
   "cell_type": "code",
   "execution_count": 392,
   "metadata": {},
   "outputs": [
    {
     "data": {
      "text/html": [
       "<div>\n",
       "<style scoped>\n",
       "    .dataframe tbody tr th:only-of-type {\n",
       "        vertical-align: middle;\n",
       "    }\n",
       "\n",
       "    .dataframe tbody tr th {\n",
       "        vertical-align: top;\n",
       "    }\n",
       "\n",
       "    .dataframe thead th {\n",
       "        text-align: right;\n",
       "    }\n",
       "</style>\n",
       "<table border=\"1\" class=\"dataframe\">\n",
       "  <thead>\n",
       "    <tr style=\"text-align: right;\">\n",
       "      <th></th>\n",
       "      <th>Name</th>\n",
       "      <th>Grade</th>\n",
       "      <th>Net Profit $</th>\n",
       "      <th>Gender</th>\n",
       "      <th>Text</th>\n",
       "      <th>Salary</th>\n",
       "    </tr>\n",
       "  </thead>\n",
       "  <tbody>\n",
       "    <tr>\n",
       "      <th>0</th>\n",
       "      <td>Rickie</td>\n",
       "      <td>58.998343</td>\n",
       "      <td>10000</td>\n",
       "      <td>Male</td>\n",
       "      <td>Aenean sit amet justo. Morbi ut odio. Cras mi ...</td>\n",
       "      <td>3000</td>\n",
       "    </tr>\n",
       "    <tr>\n",
       "      <th>1</th>\n",
       "      <td>Rickie</td>\n",
       "      <td>81.005238</td>\n",
       "      <td>11507</td>\n",
       "      <td>Female</td>\n",
       "      <td>Nullam orci pede, venenatis non, sodales sed, ...</td>\n",
       "      <td>11743</td>\n",
       "    </tr>\n",
       "    <tr>\n",
       "      <th>2</th>\n",
       "      <td>Rickie</td>\n",
       "      <td>32.372294</td>\n",
       "      <td>13322</td>\n",
       "      <td>Male</td>\n",
       "      <td>Vivamus in felis eu sapien cursus vestibulum. ...</td>\n",
       "      <td>23063</td>\n",
       "    </tr>\n",
       "    <tr>\n",
       "      <th>3</th>\n",
       "      <td>Rickie</td>\n",
       "      <td>79.103587</td>\n",
       "      <td>14609</td>\n",
       "      <td>Male</td>\n",
       "      <td>Nulla facilisi. Cras non velit nec nisi vulput...</td>\n",
       "      <td>16246</td>\n",
       "    </tr>\n",
       "    <tr>\n",
       "      <th>4</th>\n",
       "      <td>Rickie</td>\n",
       "      <td>59.201410</td>\n",
       "      <td>15667</td>\n",
       "      <td>Female</td>\n",
       "      <td>Etiam vel augue. Vestibulum rutrum rutrum nequ...</td>\n",
       "      <td>27695</td>\n",
       "    </tr>\n",
       "  </tbody>\n",
       "</table>\n",
       "</div>"
      ],
      "text/plain": [
       "     Name      Grade  Net Profit $  Gender  \\\n",
       "0  Rickie  58.998343         10000    Male   \n",
       "1  Rickie  81.005238         11507  Female   \n",
       "2  Rickie  32.372294         13322    Male   \n",
       "3  Rickie  79.103587         14609    Male   \n",
       "4  Rickie  59.201410         15667  Female   \n",
       "\n",
       "                                                Text  Salary  \n",
       "0  Aenean sit amet justo. Morbi ut odio. Cras mi ...    3000  \n",
       "1  Nullam orci pede, venenatis non, sodales sed, ...   11743  \n",
       "2  Vivamus in felis eu sapien cursus vestibulum. ...   23063  \n",
       "3  Nulla facilisi. Cras non velit nec nisi vulput...   16246  \n",
       "4  Etiam vel augue. Vestibulum rutrum rutrum nequ...   27695  "
      ]
     },
     "execution_count": 392,
     "metadata": {},
     "output_type": "execute_result"
    }
   ],
   "source": [
    "df = pd.read_excel(\"MOCK_DATA.xlsx\")\n",
    "\n",
    "df.head(5) # Let's display the first 5 rows of DataFrame."
   ]
  },
  {
   "cell_type": "markdown",
   "metadata": {},
   "source": [
    "\n",
    "\n",
    " <ul>\n",
    "  <li>We will analyze each column separately from left to right.</li>\n",
    "    <ul>\n",
    "      <li>So what is the best way to represent the first column?</li>\n"
   ]
  },
  {
   "cell_type": "code",
   "execution_count": 393,
   "metadata": {},
   "outputs": [
    {
     "data": {
      "text/plain": [
       "<seaborn.axisgrid.FacetGrid at 0x7fb49b34be20>"
      ]
     },
     "execution_count": 393,
     "metadata": {},
     "output_type": "execute_result"
    },
    {
     "data": {
      "image/png": "[encoded data removed]",
      "text/plain": [
       "<Figure size 360x360 with 1 Axes>"
      ]
     },
     "metadata": {},
     "output_type": "display_data"
    }
   ],
   "source": [
    "sns.catplot(x =\"Name\",kind = \"count\",palette= \"magma\",data = df)"
   ]
  },
  {
   "cell_type": "markdown",
   "metadata": {},
   "source": [
    "***Now we will present the distribution of test scores from column 2***"
   ]
  },
  {
   "cell_type": "code",
   "execution_count": 394,
   "metadata": {},
   "outputs": [
    {
     "data": {
      "text/plain": [
       "<AxesSubplot:xlabel='Grade'>"
      ]
     },
     "execution_count": 394,
     "metadata": {},
     "output_type": "execute_result"
    },
    {
     "data": {
      "image/png": "[encoded data removed]",
      "text/plain": [
       "<Figure size 432x288 with 1 Axes>"
      ]
     },
     "metadata": {},
     "output_type": "display_data"
    }
   ],
   "source": [
    "sns.set(style=\"darkgrid\")\n",
    "sns.violinplot(x = \"Grade\",data=df)"
   ]
  },
  {
   "cell_type": "markdown",
   "metadata": {},
   "source": [
    "***Next, we have binary column, the perfect time to use a pie chart!***\n"
   ]
  },
  {
   "cell_type": "code",
   "execution_count": 395,
   "metadata": {},
   "outputs": [
    {
     "data": {
      "text/plain": [
       "<AxesSubplot:ylabel='Gender'>"
      ]
     },
     "execution_count": 395,
     "metadata": {},
     "output_type": "execute_result"
    },
    {
     "data": {
      "image/png": "[encoded data removed]",
      "text/plain": [
       "<Figure size 720x360 with 1 Axes>"
      ]
     },
     "metadata": {},
     "output_type": "display_data"
    }
   ],
   "source": [
    "fig, (ax1) = plt.subplots(ncols=1, figsize=(10, 5))\n",
    "\n",
    "df.groupby('Gender').size().plot(kind='pie', textprops={'fontsize': 20},\n",
    "                                 colors=['violet', 'lime'], ax=ax1,ylabel = 'Gender')"
   ]
  },
  {
   "cell_type": "markdown",
   "metadata": {},
   "source": [
    "***We have come to the interesting part, how would you describe the \"Net Profit\" column?***"
   ]
  },
  {
   "cell_type": "code",
   "execution_count": 396,
   "metadata": {},
   "outputs": [
    {
     "name": "stdout",
     "output_type": "stream",
     "text": [
      "Geometric Mean: 1.01\n"
     ]
    },
    {
     "data": {
      "text/html": [
       "<a href=\"https://corporatefinanceinstitute.com/resources/knowledge/other/what-is-geometric-mean/\">For more details about geometric mean click here.</a>"
      ],
      "text/plain": [
       "<IPython.core.display.HTML object>"
      ]
     },
     "metadata": {},
     "output_type": "display_data"
    }
   ],
   "source": [
    "df[\"pct_change\"] = df[\"Net Profit $\"].pct_change() + 1\n",
    "print(\"Geometric Mean: \" +str(round(stats.gmean(df.iloc[1:,6],axis=0),2)))\n",
    "\n",
    "from IPython.core.display import display, HTML\n",
    "display(HTML(\"\"\"<a href=\"https://corporatefinanceinstitute.com/resources/knowledge/other/what-is-geometric-mean/\">For more details about geometric mean click here.</a>\"\"\"))"
   ]
  },
  {
   "cell_type": "code",
   "execution_count": 397,
   "metadata": {},
   "outputs": [
    {
     "name": "stdout",
     "output_type": "stream",
     "text": [
      "↡↡↡--mean--↡↡↡\n",
      "0\n",
      "↡↡↡--std--↡↡↡\n",
      "1\n",
      "↡↡↡--median--↡↡↡\n",
      "0\n",
      "↡↡↡--mode--↡↡↡\n",
      "-4\n"
     ]
    }
   ],
   "source": [
    "# התפלגות נורמלית\n",
    "normal_dist = np.random.randn(10000) \n",
    "\n",
    "def print_stat(array):\n",
    "    print(\"↡↡↡--mean--↡↡↡\")\n",
    "    print(round(np.mean(normal_dist)))\n",
    "    print(\"↡↡↡--std--↡↡↡\") \n",
    "    print(round(np.std(normal_dist)))\n",
    "    print(\"↡↡↡--median--↡↡↡\")\n",
    "    print(round(np.median(normal_dist)))\n",
    "    print(\"↡↡↡--mode--↡↡↡\")\n",
    "    print(round(stats.mode(normal_dist)[0][0]))\n",
    "\n",
    "print_stat(normal_dist)\n",
    "\n"
   ]
  },
  {
   "cell_type": "code",
   "execution_count": 398,
   "metadata": {},
   "outputs": [
    {
     "name": "stdout",
     "output_type": "stream",
     "text": [
      "↡↡↡--mean--↡↡↡\n",
      "3\n",
      "↡↡↡--std--↡↡↡\n",
      "3\n",
      "↡↡↡--median--↡↡↡\n",
      "3\n",
      "↡↡↡--mode--↡↡↡\n",
      "-9\n"
     ]
    },
    {
     "data": {
      "image/png": "[encoded data removed]",
      "text/plain": [
       "<Figure size 432x288 with 1 Axes>"
      ]
     },
     "metadata": {},
     "output_type": "display_data"
    }
   ],
   "source": [
    "normal_dist = 3 * np.random.randn(10000) + 3 # ניתן לבצע הזזות \n",
    "\n",
    "plt.hist(normal_dist)\n",
    "\n",
    "print_stat(normal_dist)"
   ]
  },
  {
   "cell_type": "code",
   "execution_count": 399,
   "metadata": {},
   "outputs": [
    {
     "data": {
      "text/plain": [
       "5.430051765147436"
      ]
     },
     "execution_count": 399,
     "metadata": {},
     "output_type": "execute_result"
    }
   ],
   "source": [
    "#  אחוזון ה80\n",
    "np.percentile(normal_dist,80)"
   ]
  },
  {
   "cell_type": "code",
   "execution_count": 400,
   "metadata": {},
   "outputs": [],
   "source": [
    "\n",
    "\n",
    "def remove_column_outliers(columnName,df):\n",
    "    \n",
    "    df_s = df\n",
    "    df = df.sort_values(by=[columnName],ascending=False)\n",
    "    df = df[[columnName]]\n",
    "\n",
    "    z_scores = stats.zscore(df)\n",
    "    abs_z = (np.abs(z_scores))\n",
    "    filter = (abs_z < 1).all(axis = 1)\n",
    "\n",
    "    if df.shape[0] != filter.sum():\n",
    "        print(\"!!--We found Outliers--!!\")\n",
    "        print(\"----------------------------\")\n",
    "        print(\"↡↡↡--Top outliears--↡↡↡\")\n",
    "        print(df.head(3))\n",
    "        print(\"----------------------------\")\n",
    "        print(\"↡↡↡-- Bottom outliears--↡↡↡\")\n",
    "        print(df.tail(3))\n",
    "        \n",
    "\n",
    "        decision = int(input(\"Do you want us to clean the outliers? 0 = no , 1 = yes, but not too many , 2 = yaa!! clean it all!\"))\n",
    "\n",
    "        if decision == 1:\n",
    "            new_df = df[filter]\n",
    "            return(new_df)\n",
    "        elif decision == 2:\n",
    "            num_slice = int(df.shape[0]*0.2)\n",
    "            df_temp = df.abs()\n",
    "            top =df.shape[0] - num_slice - 1\n",
    "            bottom = num_slice \n",
    "            new_df2 = df_temp.loc[bottom:top]\n",
    "            return new_df2\n",
    "        else: \n",
    "            return(df_s)\n",
    "    else:\n",
    "        print(\"No outliers ;)\")\n",
    "        return(df_s)\n",
    "\n",
    "    "
   ]
  },
  {
   "cell_type": "code",
   "execution_count": 401,
   "metadata": {},
   "outputs": [
    {
     "name": "stdout",
     "output_type": "stream",
     "text": [
      "the best kpi that describe your data is Geometric Mean: 1.349\n"
     ]
    },
    {
     "data": {
      "text/html": [
       "<div>\n",
       "<style scoped>\n",
       "    .dataframe tbody tr th:only-of-type {\n",
       "        vertical-align: middle;\n",
       "    }\n",
       "\n",
       "    .dataframe tbody tr th {\n",
       "        vertical-align: top;\n",
       "    }\n",
       "\n",
       "    .dataframe thead th {\n",
       "        text-align: right;\n",
       "    }\n",
       "</style>\n",
       "<table border=\"1\" class=\"dataframe\">\n",
       "  <thead>\n",
       "    <tr style=\"text-align: right;\">\n",
       "      <th></th>\n",
       "      <th>manger name</th>\n",
       "      <th>id</th>\n",
       "      <th>test scores</th>\n",
       "      <th>salary</th>\n",
       "      <th>profits</th>\n",
       "      <th>p chagne%</th>\n",
       "      <th>details</th>\n",
       "    </tr>\n",
       "  </thead>\n",
       "  <tbody>\n",
       "    <tr>\n",
       "      <th>0</th>\n",
       "      <td>tom</td>\n",
       "      <td>1</td>\n",
       "      <td>80</td>\n",
       "      <td>$100.00</td>\n",
       "      <td>$10000.00</td>\n",
       "      <td>0%</td>\n",
       "      <td>the person very good</td>\n",
       "    </tr>\n",
       "    <tr>\n",
       "      <th>1</th>\n",
       "      <td>tom</td>\n",
       "      <td>1</td>\n",
       "      <td>90</td>\n",
       "      <td>$200.00</td>\n",
       "      <td>$22000.00</td>\n",
       "      <td>220%</td>\n",
       "      <td>very good high</td>\n",
       "    </tr>\n",
       "    <tr>\n",
       "      <th>2</th>\n",
       "      <td>chen</td>\n",
       "      <td>2</td>\n",
       "      <td>43</td>\n",
       "      <td>$500.00</td>\n",
       "      <td>$32100.00</td>\n",
       "      <td>146%</td>\n",
       "      <td>need to work more</td>\n",
       "    </tr>\n",
       "    <tr>\n",
       "      <th>3</th>\n",
       "      <td>shani</td>\n",
       "      <td>3</td>\n",
       "      <td>25</td>\n",
       "      <td>$300.00</td>\n",
       "      <td>$42000.00</td>\n",
       "      <td>131%</td>\n",
       "      <td>very noesy high</td>\n",
       "    </tr>\n",
       "    <tr>\n",
       "      <th>4</th>\n",
       "      <td>sivan</td>\n",
       "      <td>4</td>\n",
       "      <td>6</td>\n",
       "      <td>$1,000.00</td>\n",
       "      <td>$50000.00</td>\n",
       "      <td>119%</td>\n",
       "      <td>nice person</td>\n",
       "    </tr>\n",
       "    <tr>\n",
       "      <th>5</th>\n",
       "      <td>yossi</td>\n",
       "      <td>5</td>\n",
       "      <td>7</td>\n",
       "      <td>$500.00</td>\n",
       "      <td>$65000.00</td>\n",
       "      <td>130%</td>\n",
       "      <td>very good leader</td>\n",
       "    </tr>\n",
       "    <tr>\n",
       "      <th>6</th>\n",
       "      <td>tom</td>\n",
       "      <td>1</td>\n",
       "      <td>10</td>\n",
       "      <td>$300.00</td>\n",
       "      <td>$70000.00</td>\n",
       "      <td>108%</td>\n",
       "      <td>very very good high</td>\n",
       "    </tr>\n",
       "    <tr>\n",
       "      <th>7</th>\n",
       "      <td>sivan</td>\n",
       "      <td>4</td>\n",
       "      <td>120</td>\n",
       "      <td>$100.01</td>\n",
       "      <td>$81200.00</td>\n",
       "      <td>116%</td>\n",
       "      <td>high grades very impressive</td>\n",
       "    </tr>\n",
       "  </tbody>\n",
       "</table>\n",
       "</div>"
      ],
      "text/plain": [
       "  manger name  id  test scores     salary    profits p chagne%  \\\n",
       "0         tom   1           80    $100.00  $10000.00        0%   \n",
       "1         tom   1           90    $200.00  $22000.00      220%   \n",
       "2       chen    2           43    $500.00  $32100.00      146%   \n",
       "3       shani   3           25    $300.00  $42000.00      131%   \n",
       "4       sivan   4            6  $1,000.00  $50000.00      119%   \n",
       "5       yossi   5            7    $500.00  $65000.00      130%   \n",
       "6         tom   1           10    $300.00  $70000.00      108%   \n",
       "7       sivan   4          120    $100.01  $81200.00      116%   \n",
       "\n",
       "                       details  \n",
       "0         the person very good  \n",
       "1               very good high  \n",
       "2            need to work more  \n",
       "3              very noesy high  \n",
       "4                  nice person  \n",
       "5             very good leader  \n",
       "6          very very good high  \n",
       "7  high grades very impressive  "
      ]
     },
     "execution_count": 401,
     "metadata": {},
     "output_type": "execute_result"
    }
   ],
   "source": [
    "from scipy import stats\n",
    "import seaborn as sns\n",
    "import pandas as pd \n",
    "import matplotlib.pyplot as plt\n",
    "import numpy as np\n",
    "from os import path\n",
    "from PIL import Image\n",
    "from wordcloud import WordCloud, STOPWORDS, ImageColorGenerator\n",
    "\n",
    "def deicide_trim_orNot(columnName,df):\n",
    "    df = df.sort_values(by=[columnName],ascending=False)\n",
    "    df = df[[columnName]]\n",
    "\n",
    "    z_scores = stats.zscore(df)\n",
    "    abs_z = (np.abs(z_scores))\n",
    "    filter = (abs_z < 1).all(axis = 1)\n",
    "\n",
    "    if df.shape[0] != filter.sum():\n",
    "        trim = str(round(stats.trim_mean(df, 0.25)[0],2))\n",
    "        return \"the best kpi that describe your data is Trim Mean: \" + trim   \n",
    "    else:\n",
    "        return(\"No outliers ;)  the best kpi that describe your data is: Mean\" + str(df.mean()[0]))\n",
    "\n",
    "########################################################\n",
    "\n",
    "def normal_std(df):\n",
    "   x = int(df.std())\n",
    "   x = str(x)\n",
    "   count = int(len(x))\n",
    "   x = int(x)\n",
    "   return x*10**(-abs((count-2)))\n",
    "\n",
    "########################################################\n",
    "\n",
    "def clean_dollar(df):\n",
    "    df = df.astype(str)\n",
    "    df= df.replace(r\"\\$\",\"\",regex= True)\n",
    "    df= df.replace(r\"\\,\",\"\",regex=True)\n",
    "    df= df.replace(r\"\\%\",\"\",regex=True)\n",
    "    df = df.astype(float)\n",
    "    return df\n",
    "\n",
    "########################################################\n",
    "def OurWordCloud(df,title = None,pic_shape = \" \"):\n",
    "       stopwords = set(STOPWORDS)\n",
    "\n",
    "       wordcloud = WordCloud(\n",
    "           background_color=\"white\",\n",
    "           stopwords=stopwords,\n",
    "           max_words=22,\n",
    "           max_font_size=40,\n",
    "           scale= 3,\n",
    "           random_state=1).generate(str(df))\n",
    "\n",
    "       fig = plt.figure(1,figsize=(10,10))\n",
    "       plt.axis(\"off\")\n",
    "       if title:\n",
    "           fig.suptitle(title,fontsize=15)\n",
    "           fig.subplots_adjust(top = 2.3)\n",
    "    \n",
    "       plt.imshow(wordcloud)\n",
    "       plt.show()\n",
    "########################################################\n",
    "\n",
    "def top_analyst(columnName,df):\n",
    "    df_save = df\n",
    "    df = df[[columnName]]\n",
    "\n",
    "    if df.dtypes[0] == 'int' or df.dtypes[0] == 'float':\n",
    "        if columnName.lower() == \"salary\":\n",
    "            return \"the best kpi that describe your data is Median: \" +  str(round(df.median()[0]))\n",
    "        elif normal_std(df) > 2:\n",
    "            return deicide_trim_orNot(columnName,df_save)\n",
    "        else:\n",
    "            return \"No outliers ;)  the best kpi that describe your data is : Mean \" + str(round(df.mean()[0],2))  \n",
    "\n",
    "    elif df.dtypes[0] == 'object':\n",
    "        if \"$\" in df[columnName][1] or columnName.lower() == \"Salary\":\n",
    "            user = int(input(\"now we talk money! salary = 1 money change over time = 0\"))\n",
    "            if user == 1:\n",
    "                df = clean_dollar(df)\n",
    "                return \"the best kpi that describe your data is Median:  \" +  str(round(df.median()[0]))\n",
    "\n",
    "            elif user == 0:\n",
    "                df = clean_dollar(df)\n",
    "                df = df.pct_change() + 1\n",
    "                df = df.loc[1:]\n",
    "                return \"the best kpi that describe your data is Geometric Mean: \"+ str(round(stats.gmean(df)[0],3))\n",
    "\n",
    "        elif \"%\" in df[columnName][1]:\n",
    "            user= int(input(\"change over time? yes = 1 no = 0\"))\n",
    "            if user ==  1:\n",
    "                df = clean_dollar(df)\n",
    "                df = df.loc[1:] / 100\n",
    "                return \"the best kpi that describe your data is Geometric Mean: \"+ str(round(stats.gmean(df)[0],3))\n",
    "            else:\n",
    "                df = clean_dollar(df)\n",
    "                trim = str(round(stats.trim_mean(df, 0.25)[0],2))\n",
    "                return \"the best kpi that describe your data is Trim Mean: \" + trim +\"%\"\n",
    "        else:\n",
    "            if len(df[columnName][0]) > 18:\n",
    "                print(\"the best way to describe your data is by Word Cloud: \")\n",
    "                return OurWordCloud(df[columnName])\n",
    "            else:\n",
    "               print(\"the best way to describe your data is by Histogram\")\n",
    "               return sns.catplot(x = columnName,kind = \"count\",palette= \"magma\",data = df)\n",
    "            \n",
    "    \n",
    "df = pd.read_excel(\"test.xlsx\")\n",
    "\n",
    "print(top_analyst(\"profits\",df))\n",
    "\n",
    "df.head(10)"
   ]
  },
  {
   "cell_type": "code",
   "execution_count": null,
   "metadata": {},
   "outputs": [],
   "source": [
    "\n",
    " \n"
   ]
  }
 ],
 "metadata": {
  "interpreter": {
   "hash": "aee8b7b246df8f9039afb4144a1f6fd8d2ca17a180786b69acc140d282b71a49"
  },
  "kernelspec": {
   "display_name": "Python 3.8.0 64-bit",
   "language": "python",
   "name": "python3"
  },
  "language_info": {
   "codemirror_mode": {
    "name": "ipython",
    "version": 3
   },
   "file_extension": ".py",
   "mimetype": "text/x-python",
   "name": "python",
   "nbconvert_exporter": "python",
   "pygments_lexer": "ipython3",
   "version": "3.8.0"
  },
  "orig_nbformat": 4
 },
 "nbformat": 4,
 "nbformat_minor": 2
}
